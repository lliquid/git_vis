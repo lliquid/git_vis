{
 "cells": [
  {
   "cell_type": "markdown",
   "metadata": {},
   "source": [
    "### Extract directory structure from commits and summarize rate of change"
   ]
  },
  {
   "cell_type": "code",
   "execution_count": null,
   "metadata": {},
   "outputs": [],
   "source": [
    "from config import repo_url, export_directory\n",
    "from common import collect_commits"
   ]
  },
  {
   "cell_type": "code",
   "execution_count": null,
   "metadata": {},
   "outputs": [],
   "source": [
    "commits = collect_commits(repo_url)"
   ]
  },
  {
   "cell_type": "code",
   "execution_count": null,
   "metadata": {},
   "outputs": [],
   "source": [
    "import os.path\n",
    "\n",
    "class Directory:\n",
    "    \n",
    "    ## class Directory maintains a static snapshot of a directory structure\n",
    "    def __init__(self, name=''):\n",
    "        self.sub_directories = {}\n",
    "        self.files = {}\n",
    "        self.size = 0\n",
    "        self.freeze = False\n",
    "        self.name = name\n",
    "        \n",
    "    def add_file(self, path, file, size = 1):\n",
    "        \n",
    "        dirname = os.path.dirname(path)\n",
    "        \n",
    "        if dirname == '':\n",
    "            self.files[path] = file\n",
    "        else:\n",
    "            sub_directory = path.split('/')[0]\n",
    "            if sub_directory not in self.sub_directories: #create new directory\n",
    "                self.sub_directories[sub_directory] = Directory(name=sub_directory)\n",
    "            self.sub_directories[sub_directory].add_file('/'.join(path.split('/')[1:]), file, size = size)\n",
    "        \n",
    "        self.size += size\n",
    "    \n",
    "    def remove_file(self, path, size = 1):\n",
    "        \n",
    "        dirname = os.path.dirname(path)\n",
    "        \n",
    "        if dirname == '':\n",
    "            del self.files[path]\n",
    "        else:\n",
    "            sub_directory = path.split('/')[0]\n",
    "            self.sub_directories[sub_directory].remove_file('/'.join(path.split('/')[1:]), size = size)\n",
    "            \n",
    "        self.size -= size\n",
    "    \n",
    "    def rename_file(self, old_path, new_path, file, size = 1):\n",
    "        \n",
    "        self.remove_file(old_path, size = size)\n",
    "        self.add_file(new_path, file, size = size)\n",
    "        \n",
    "    def modify_file(self, path, size_change = 0):\n",
    "    \n",
    "        self.size += size_change\n",
    "        \n",
    "        dirname = os.path.dirname(path)\n",
    "        if dirname != '':\n",
    "            sub_directory = path.split('/')[0]\n",
    "            self.sub_directories[sub_directory].modify_file('/'.join(path.split('/')[1:]), size_change = size_change)\n",
    "        \n",
    "    def clean_print(self, level=0):\n",
    "        \n",
    "        ## print a depth first tranversal of the tree\n",
    "        print(' ' * level + self.name)\n",
    "        for directoryname in self.sub_directories:\n",
    "            self.sub_directories[directoryname].clean_print(level = level + 1)\n",
    "        for filename in self.files:\n",
    "            print(' ' * (level + 1) + filename)\n",
    "        \n",
    "    def to_json_tree(self):\n",
    "        \n",
    "        pass\n",
    "\n"
   ]
  }
 ],
 "metadata": {
  "kernelspec": {
   "display_name": "Python 3",
   "language": "python",
   "name": "python3"
  },
  "language_info": {
   "codemirror_mode": {
    "name": "ipython",
    "version": 3
   },
   "file_extension": ".py",
   "mimetype": "text/x-python",
   "name": "python",
   "nbconvert_exporter": "python",
   "pygments_lexer": "ipython3",
   "version": "3.7.1"
  }
 },
 "nbformat": 4,
 "nbformat_minor": 2
}
