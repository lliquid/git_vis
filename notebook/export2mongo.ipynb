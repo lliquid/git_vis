{
 "cells": [
  {
   "cell_type": "code",
   "execution_count": 21,
   "metadata": {},
   "outputs": [],
   "source": [
    "from pydriller import RepositoryMining"
   ]
  },
  {
   "cell_type": "code",
   "execution_count": 22,
   "metadata": {},
   "outputs": [],
   "source": [
    "export_config = {\n",
    "    \"url\": \"../data/react-vis\",\n",
    "    \"collection\": 'react-vis'\n",
    "}"
   ]
  },
  {
   "cell_type": "code",
   "execution_count": 23,
   "metadata": {},
   "outputs": [],
   "source": [
    "mongo_config = {\n",
    "    \"server_address\": \"localhost\",\n",
    "    \"server_port\": 27017,\n",
    "    \"db\": \"git-vis\"\n",
    "}"
   ]
  },
  {
   "cell_type": "code",
   "execution_count": 24,
   "metadata": {},
   "outputs": [],
   "source": [
    "from pydriller.domain.commit import ModificationType\n",
    "from pymongo import MongoClient\n",
    "\n",
    "def export2mongo(export_config, mongo_config):\n",
    "    \n",
    "    # open mongo db connection\n",
    "    client = MongoClient(mongo_config[\"server_address\"], mongo_config[\"server_port\"])\n",
    "    db = client['db']\n",
    "    \n",
    "    # drop collection if it already exists\n",
    "    collist = db.list_collection_names()\n",
    "    if export_config['collection'] in collist:\n",
    "        db[export_config[\"collection\"]].drop()\n",
    "        \n",
    "    # create collection\n",
    "    tbl = db[export_config['collection']]\n",
    "\n",
    "    # iterate through all the commits and store in mongo\n",
    "    for commit in RepositoryMining(path_to_repo=[export_config['url']]).traverse_commits():\n",
    "        # store commit info\n",
    "        commit_info = {\n",
    "            \"commit_hash\": commit.hash,\n",
    "            \"author_email\": commit.author.email,\n",
    "            \"author_date\": commit.author_date,\n",
    "            \"commit_msg\": commit.msg\n",
    "        }\n",
    "        # store modification on each file\n",
    "        for modification in commit.modifications:\n",
    "            doc = {**commit_info, **{\n",
    "                \"new_path\": modification.new_path,\n",
    "                \"change_type\": str(modification.change_type),\n",
    "                \"diff\": modification.diff,\n",
    "                \"lines_added\": modification.added,\n",
    "                \"lines_removed\": modification.removed \n",
    "            }}\n",
    "            tbl.insert_one(doc)"
   ]
  },
  {
   "cell_type": "code",
   "execution_count": 25,
   "metadata": {},
   "outputs": [],
   "source": [
    "export2mongo(export_config, mongo_config)"
   ]
  },
  {
   "cell_type": "code",
   "execution_count": null,
   "metadata": {},
   "outputs": [],
   "source": []
  }
 ],
 "metadata": {
  "kernelspec": {
   "display_name": "Python 3",
   "language": "python",
   "name": "python3"
  },
  "language_info": {
   "codemirror_mode": {
    "name": "ipython",
    "version": 3
   },
   "file_extension": ".py",
   "mimetype": "text/x-python",
   "name": "python",
   "nbconvert_exporter": "python",
   "pygments_lexer": "ipython3",
   "version": "3.8.3"
  }
 },
 "nbformat": 4,
 "nbformat_minor": 4
}
