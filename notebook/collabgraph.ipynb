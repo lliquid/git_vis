{
 "cells": [
  {
   "cell_type": "markdown",
   "metadata": {},
   "source": [
    "## Extract collaboration graph based on co-editing patterns on the files"
   ]
  },
  {
   "cell_type": "code",
   "execution_count": 12,
   "metadata": {},
   "outputs": [],
   "source": [
    "from config import repo_url\n",
    "from common import collect_commits"
   ]
  },
  {
   "cell_type": "code",
   "execution_count": 13,
   "metadata": {},
   "outputs": [],
   "source": [
    "commits = collect_commits(repo_url)"
   ]
  },
  {
   "cell_type": "code",
   "execution_count": 14,
   "metadata": {},
   "outputs": [],
   "source": [
    "import networkx as nx\n",
    "from networkx.algorithms import bipartite\n",
    "\n",
    "def extract_graph(commits):\n",
    "    # extract a bipartite graph containing author emails and edited files\n",
    "    bg = nx.Graph()\n",
    "    \n",
    "    for c in commits:\n",
    "        author_email = c['author_email']\n",
    "        if not bg.has_node(author_email):\n",
    "            bg.add_node(author_email, type='author_email')\n",
    "        for m in c['modifications']:\n",
    "            file_path = m['new_path']\n",
    "            if not bg.has_node(file_path):\n",
    "                bg.add_node(file_path, type='file_path')\n",
    "            bg.add_edge(author_email, file_path)\n",
    "            \n",
    "    return bg"
   ]
  },
  {
   "cell_type": "code",
   "execution_count": 31,
   "metadata": {},
   "outputs": [],
   "source": [
    "bg = extract_graph(commits)"
   ]
  },
  {
   "cell_type": "code",
   "execution_count": 32,
   "metadata": {},
   "outputs": [],
   "source": [
    "authors = [n for n in bg.nodes if bg.nodes[n]['type'] == \"author_email\"]\n",
    "file_paths = [n for n in bg.nodes if bg.nodes[n]['type'] == \"file_path\"]"
   ]
  },
  {
   "cell_type": "code",
   "execution_count": 35,
   "metadata": {},
   "outputs": [],
   "source": [
    "g = bipartite.projected_graph(bg, authors)"
   ]
  },
  {
   "cell_type": "code",
   "execution_count": 36,
   "metadata": {},
   "outputs": [
    {
     "data": {
      "text/plain": [
       "0.1908569905371185"
      ]
     },
     "execution_count": 36,
     "metadata": {},
     "output_type": "execute_result"
    }
   ],
   "source": [
    "from networkx.classes import function\n",
    "function.density(g)"
   ]
  },
  {
   "cell_type": "code",
   "execution_count": null,
   "metadata": {},
   "outputs": [],
   "source": []
  }
 ],
 "metadata": {
  "kernelspec": {
   "display_name": "Python 3",
   "language": "python",
   "name": "python3"
  },
  "language_info": {
   "codemirror_mode": {
    "name": "ipython",
    "version": 3
   },
   "file_extension": ".py",
   "mimetype": "text/x-python",
   "name": "python",
   "nbconvert_exporter": "python",
   "pygments_lexer": "ipython3",
   "version": "3.7.1"
  }
 },
 "nbformat": 4,
 "nbformat_minor": 2
}
