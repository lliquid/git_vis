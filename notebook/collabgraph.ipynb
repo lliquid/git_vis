{
 "cells": [
  {
   "cell_type": "markdown",
   "metadata": {},
   "source": [
    "### Extract collaboration graph based on co-editing patterns on the files"
   ]
  },
  {
   "cell_type": "code",
   "execution_count": 1,
   "metadata": {},
   "outputs": [],
   "source": [
    "from config import repo_url, export_directory\n",
    "from common import collect_commits\n",
    "from collabgraph import extract_graph\n",
    "from networkx.algorithms import bipartite\n",
    "import networkx as nx"
   ]
  },
  {
   "cell_type": "code",
   "execution_count": 2,
   "metadata": {},
   "outputs": [],
   "source": [
    "commits = collect_commits(repo_url)"
   ]
  },
  {
   "cell_type": "code",
   "execution_count": 3,
   "metadata": {},
   "outputs": [],
   "source": [
    "def extract_collab_graph(commits, folders=None):\n",
    "    bg, authors, file_paths = extract_graph(commits, folders=folders)\n",
    "    g = bipartite.generic_weighted_projected_graph(bg, authors)\n",
    "    return g, authors"
   ]
  },
  {
   "cell_type": "code",
   "execution_count": 4,
   "metadata": {},
   "outputs": [],
   "source": [
    "g, authors = extract_collab_graph(commits, folders=['src'])"
   ]
  },
  {
   "cell_type": "markdown",
   "metadata": {},
   "source": [
    "### Calculate Layout"
   ]
  },
  {
   "cell_type": "code",
   "execution_count": 5,
   "metadata": {},
   "outputs": [],
   "source": [
    "from networkx.drawing import layout\n",
    "positions1d = layout.spectral_layout(g, dim=1)\n",
    "sortednodes = sorted(g.nodes, key=lambda nid: positions1d[nid][0])\n",
    "for nid in g.nodes:\n",
    "    g.nodes[nid]['x'] = float(positions1d[nid][0])\n",
    "    \n",
    "for i, nid in enumerate(sortednodes):\n",
    "    g.nodes[nid]['order'] = i"
   ]
  },
  {
   "cell_type": "markdown",
   "metadata": {},
   "source": [
    "### Store projected graph in a json file format"
   ]
  },
  {
   "cell_type": "code",
   "execution_count": 6,
   "metadata": {},
   "outputs": [],
   "source": [
    "from networkx.readwrite import json_graph\n",
    "import json\n",
    "from pathlib import Path\n",
    "\n",
    "DATA_PATH = Path(export_directory)\n",
    "FILE_PATH = DATA_PATH / \"collabgraph.json\"\n",
    "\n",
    "with open(FILE_PATH, 'w') as f:\n",
    "    json.dump(json_graph.node_link_data(g),f)"
   ]
  },
  {
   "cell_type": "code",
   "execution_count": 7,
   "metadata": {},
   "outputs": [
    {
     "data": {
      "text/plain": [
       "0.2576103500761035"
      ]
     },
     "execution_count": 7,
     "metadata": {},
     "output_type": "execute_result"
    }
   ],
   "source": [
    "from networkx.classes import function\n",
    "function.density(g)"
   ]
  },
  {
   "cell_type": "markdown",
   "metadata": {},
   "source": [
    "### Visualize projected graph with matrix"
   ]
  },
  {
   "cell_type": "code",
   "execution_count": 8,
   "metadata": {},
   "outputs": [],
   "source": [
    "def visualize_adjacency_matrix(g):\n",
    "\n",
    "    import seaborn as sns\n",
    "    import networkx as nx\n",
    "    sns.set()\n",
    "\n",
    "    # Convert the palette to vectors that will be drawn on the side of the matrix\n",
    "    mat = nx.to_numpy_matrix(g)\n",
    "    \n",
    "    # Draw the full plot\n",
    "    sns.clustermap(mat, xticklabels=authors, yticklabels=authors, center=0, vmin = 0, vmax = 4, cmap='vlag', figsize=(20, 20), linewidths=.25)"
   ]
  },
  {
   "cell_type": "code",
   "execution_count": 9,
   "metadata": {},
   "outputs": [
    {
     "name": "stderr",
     "output_type": "stream",
     "text": [
      "/Users/panpanxu/anaconda3/lib/python3.7/site-packages/seaborn/matrix.py:603: ClusterWarning: scipy.cluster: The symmetric non-negative hollow observation matrix looks suspiciously like an uncondensed distance matrix\n",
      "  metric=self.metric)\n",
      "/Users/panpanxu/anaconda3/lib/python3.7/site-packages/seaborn/matrix.py:603: ClusterWarning: scipy.cluster: The symmetric non-negative hollow observation matrix looks suspiciously like an uncondensed distance matrix\n",
      "  metric=self.metric)\n"
     ]
    }
   ],
   "source": [
    "visualize_adjacency_matrix(g)"
   ]
  },
  {
   "cell_type": "markdown",
   "metadata": {},
   "source": [
    "### Two filtering dimensions: \n",
    "- Time interval (or in-between which commits)\n",
    "- Source code folder"
   ]
  },
  {
   "cell_type": "markdown",
   "metadata": {},
   "source": [
    "### Node layout: \n",
    "- T-sne on co-editing patterns\n",
    "- Overlap removal\n",
    "- Node label layout"
   ]
  },
  {
   "cell_type": "code",
   "execution_count": 10,
   "metadata": {},
   "outputs": [],
   "source": [
    "def tsne_graph(g):\n",
    "    from networkx.algorithms import shortest_paths\n",
    "    dist_mat = shortest_paths.dense.floyd_warshall_numpy(g)\n",
    "    from sklearn import manifold\n",
    "    tsne = manifold.TSNE(metric='precomputed')\n",
    "    return tsne.fit_transform(dist_mat)"
   ]
  },
  {
   "cell_type": "code",
   "execution_count": 11,
   "metadata": {},
   "outputs": [
    {
     "data": {
      "text/html": [
       "\n",
       "<div id=\"altair-viz-f3c937fcd7274e839c9c52a520a0e076\"></div>\n",
       "<script type=\"text/javascript\">\n",
       "  (function(spec, embedOpt){\n",
       "    let outputDiv = document.currentScript.previousElementSibling;\n",
       "    if (outputDiv.id !== \"altair-viz-f3c937fcd7274e839c9c52a520a0e076\") {\n",
       "      outputDiv = document.getElementById(\"altair-viz-f3c937fcd7274e839c9c52a520a0e076\");\n",
       "    }\n",
       "    const paths = {\n",
       "      \"vega\": \"https://cdn.jsdelivr.net/npm//vega@5?noext\",\n",
       "      \"vega-lib\": \"https://cdn.jsdelivr.net/npm//vega-lib?noext\",\n",
       "      \"vega-lite\": \"https://cdn.jsdelivr.net/npm//vega-lite@4.8.1?noext\",\n",
       "      \"vega-embed\": \"https://cdn.jsdelivr.net/npm//vega-embed@6?noext\",\n",
       "    };\n",
       "\n",
       "    function loadScript(lib) {\n",
       "      return new Promise(function(resolve, reject) {\n",
       "        var s = document.createElement('script');\n",
       "        s.src = paths[lib];\n",
       "        s.async = true;\n",
       "        s.onload = () => resolve(paths[lib]);\n",
       "        s.onerror = () => reject(`Error loading script: ${paths[lib]}`);\n",
       "        document.getElementsByTagName(\"head\")[0].appendChild(s);\n",
       "      });\n",
       "    }\n",
       "\n",
       "    function showError(err) {\n",
       "      outputDiv.innerHTML = `<div class=\"error\" style=\"color:red;\">${err}</div>`;\n",
       "      throw err;\n",
       "    }\n",
       "\n",
       "    function displayChart(vegaEmbed) {\n",
       "      vegaEmbed(outputDiv, spec, embedOpt)\n",
       "        .catch(err => showError(`Javascript Error: ${err.message}<br>This usually means there's a typo in your chart specification. See the javascript console for the full traceback.`));\n",
       "    }\n",
       "\n",
       "    if(typeof define === \"function\" && define.amd) {\n",
       "      requirejs.config({paths});\n",
       "      require([\"vega-embed\"], displayChart, err => showError(`Error loading script: ${err.message}`));\n",
       "    } else if (typeof vegaEmbed === \"function\") {\n",
       "      displayChart(vegaEmbed);\n",
       "    } else {\n",
       "      loadScript(\"vega\")\n",
       "        .then(() => loadScript(\"vega-lite\"))\n",
       "        .then(() => loadScript(\"vega-embed\"))\n",
       "        .catch(showError)\n",
       "        .then(() => displayChart(vegaEmbed));\n",
       "    }\n",
       "  })({\"config\": {\"view\": {\"continuousWidth\": 400, \"continuousHeight\": 300}}, \"data\": {\"name\": \"data-b48a84872382636231b5255b3048cc6d\"}, \"mark\": \"point\", \"encoding\": {\"x\": {\"type\": \"quantitative\", \"field\": \"x\"}, \"y\": {\"type\": \"quantitative\", \"field\": \"y\"}}, \"$schema\": \"https://vega.github.io/schema/vega-lite/v4.8.1.json\", \"datasets\": {\"data-b48a84872382636231b5255b3048cc6d\": [{\"x\": 5.992040157318115, \"y\": -1.9675164222717285}, {\"x\": 3.960625171661377, \"y\": -3.417274236679077}, {\"x\": 4.589837551116943, \"y\": -2.039607286453247}, {\"x\": 6.481618881225586, \"y\": -0.7329100370407104}, {\"x\": 6.48750114440918, \"y\": -0.7411143183708191}, {\"x\": 6.4857378005981445, \"y\": -0.740233302116394}, {\"x\": 5.410427570343018, \"y\": -1.0752639770507812}, {\"x\": 5.408899784088135, \"y\": -1.0932213068008423}, {\"x\": 6.485079765319824, \"y\": -0.7406383156776428}, {\"x\": 6.485439777374268, \"y\": -0.743883490562439}, {\"x\": 6.320103168487549, \"y\": -4.874395847320557}, {\"x\": 6.487822532653809, \"y\": -0.7424371838569641}, {\"x\": 6.071523189544678, \"y\": -0.6576229333877563}, {\"x\": 6.440278053283691, \"y\": -2.920300245285034}, {\"x\": 7.446305751800537, \"y\": -2.684180736541748}, {\"x\": 7.448376178741455, \"y\": -2.688096046447754}, {\"x\": 7.449488639831543, \"y\": -2.6866748332977295}, {\"x\": 5.507898807525635, \"y\": -3.3861818313598633}, {\"x\": 5.520262241363525, \"y\": -3.389482021331787}, {\"x\": 7.452496528625488, \"y\": -2.678469181060791}, {\"x\": 5.514717102050781, \"y\": -3.3924405574798584}, {\"x\": 5.520084857940674, \"y\": -3.390286922454834}, {\"x\": 5.740318298339844, \"y\": -1.8019800186157227}, {\"x\": 6.947642803192139, \"y\": -4.031589031219482}, {\"x\": 6.868113994598389, \"y\": -5.836153507232666}, {\"x\": 5.520146369934082, \"y\": -3.3902716636657715}, {\"x\": 7.267260551452637, \"y\": -4.242666244506836}, {\"x\": 5.423094272613525, \"y\": -4.80712890625}, {\"x\": 7.86552095413208, \"y\": -5.477308750152588}, {\"x\": 5.7193169593811035, \"y\": -5.843379974365234}, {\"x\": 7.594675064086914, \"y\": -4.203873157501221}, {\"x\": 6.083222389221191, \"y\": -4.981977462768555}, {\"x\": 5.358020305633545, \"y\": -3.0768344402313232}, {\"x\": 4.6907196044921875, \"y\": -3.457582473754883}, {\"x\": 4.668047904968262, \"y\": -4.452062606811523}, {\"x\": 6.282169342041016, \"y\": -5.632126331329346}, {\"x\": 6.868109703063965, \"y\": -5.8361921310424805}, {\"x\": 6.290542125701904, \"y\": -5.6317138671875}, {\"x\": 5.407873153686523, \"y\": -3.458836793899536}, {\"x\": 6.547826766967773, \"y\": -2.248900890350342}, {\"x\": 6.035024166107178, \"y\": -4.308130741119385}, {\"x\": 5.009767532348633, \"y\": -5.015401840209961}, {\"x\": 5.867074489593506, \"y\": -5.575671195983887}, {\"x\": 6.280305862426758, \"y\": -5.63393497467041}, {\"x\": 6.197892189025879, \"y\": -6.057679176330566}, {\"x\": 5.5674824714660645, \"y\": -4.638047218322754}, {\"x\": 6.684730052947998, \"y\": -4.972653388977051}, {\"x\": 6.458574295043945, \"y\": -2.098430633544922}, {\"x\": 5.974286079406738, \"y\": -6.098593235015869}, {\"x\": 5.7692060470581055, \"y\": -5.713852405548096}, {\"x\": 4.965177059173584, \"y\": -5.739352226257324}, {\"x\": 5.876555442810059, \"y\": -5.563416957855225}, {\"x\": 5.945725440979004, \"y\": -6.09271240234375}, {\"x\": 6.146182060241699, \"y\": -5.488031387329102}, {\"x\": 3.13427472114563, \"y\": -4.760100364685059}, {\"x\": 3.43692946434021, \"y\": -4.259364604949951}, {\"x\": 3.3617656230926514, \"y\": -5.279184341430664}, {\"x\": 3.688715696334839, \"y\": -5.830252170562744}, {\"x\": 3.684246063232422, \"y\": -5.823784828186035}, {\"x\": 5.520232677459717, \"y\": -3.390244722366333}, {\"x\": 3.621455669403076, \"y\": -4.385727405548096}, {\"x\": 5.728235721588135, \"y\": -5.773806095123291}, {\"x\": 5.507973670959473, \"y\": -3.385718822479248}, {\"x\": 3.381939172744751, \"y\": -4.833642482757568}, {\"x\": 3.386929750442505, \"y\": -4.867567539215088}, {\"x\": 7.858317852020264, \"y\": -5.480992794036865}, {\"x\": 4.575973987579346, \"y\": -4.4917402267456055}, {\"x\": 3.3234994411468506, \"y\": -5.273404598236084}, {\"x\": 3.3733272552490234, \"y\": -4.851926803588867}, {\"x\": 7.864134311676025, \"y\": -5.484003067016602}, {\"x\": 6.285764217376709, \"y\": -5.603803634643555}, {\"x\": 3.3678412437438965, \"y\": -4.858307361602783}, {\"x\": 6.056158542633057, \"y\": -6.0903000831604}]}}, {\"mode\": \"vega-lite\"});\n",
       "</script>"
      ],
      "text/plain": [
       "alt.Chart(...)"
      ]
     },
     "execution_count": 11,
     "metadata": {},
     "output_type": "execute_result"
    }
   ],
   "source": [
    "import altair as alt\n",
    "import pandas as pd\n",
    "\n",
    "embedding = tsne_graph(g)\n",
    "pd = pd.DataFrame(embedding, columns=['x', 'y'])\n",
    "\n",
    "alt.Chart(pd).mark_point().encode(\n",
    "    x='x:Q',\n",
    "    y='y:Q'\n",
    ")"
   ]
  },
  {
   "cell_type": "code",
   "execution_count": null,
   "metadata": {},
   "outputs": [],
   "source": []
  },
  {
   "cell_type": "code",
   "execution_count": null,
   "metadata": {},
   "outputs": [],
   "source": []
  }
 ],
 "metadata": {
  "kernelspec": {
   "display_name": "Python 3",
   "language": "python",
   "name": "python3"
  },
  "language_info": {
   "codemirror_mode": {
    "name": "ipython",
    "version": 3
   },
   "file_extension": ".py",
   "mimetype": "text/x-python",
   "name": "python",
   "nbconvert_exporter": "python",
   "pygments_lexer": "ipython3",
   "version": "3.7.1"
  }
 },
 "nbformat": 4,
 "nbformat_minor": 2
}
